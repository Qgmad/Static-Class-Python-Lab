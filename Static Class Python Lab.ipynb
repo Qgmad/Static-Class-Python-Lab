{
 "cells": [
  {
   "cell_type": "code",
   "execution_count": null,
   "metadata": {},
   "outputs": [],
   "source": [
    "print(\"prine Kaliraman \\n ROLL NO -2K18CSUN01123  \\n CLASS -B-TECH CSE 4A\"\"\")\n",
    "class Triangle:\n",
    "    sideA=0\n",
    "    sideB=0\n",
    "    sideC=0\n",
    "    def create_triangle(self,a,b,c):\n",
    "        self.sideA=a\n",
    "        self.sideB=b\n",
    "        self.sideC =c\n",
    "    def printside(self):\n",
    "        print(\"a= \",self.sideA)\n",
    "        print(\"b= \",self.sideB)\n",
    "        print(\"c= \",self.sideC)\n",
    "\n",
    "tr=Triangle()\n",
    "tr.create_triangle(12,15,24)\n",
    "print(\"The Sides Of Triangle are\")\n",
    "tr.printside()\n"
   ]
  },
  {
   "cell_type": "code",
   "execution_count": null,
   "metadata": {},
   "outputs": [],
   "source": [
    "\n",
    "class string_play:\n",
    "    s=\"\"\n",
    "    \n",
    "    def gets_string(self,s):\n",
    "        self.s=s\n",
    "    \n",
    "    def print_string(self):\n",
    "        print(\"The string is \",self.s)\n",
    "    \n",
    "    \n",
    "ss = string_play()\n",
    "\n",
    "ss.gets_string(\"Hey\")\n",
    "ss.print_string()"
   ]
  },
  {
   "cell_type": "code",
   "execution_count": null,
   "metadata": {},
   "outputs": [],
   "source": [
    "\n",
    "class Rectangle:\n",
    "    width=0.0\n",
    "    length=0.0\n",
    "    def set_values(self,l,w):\n",
    "        self.length = l\n",
    "        self.width = w\n",
    "       \n",
    "    def  getvalues(self):\n",
    "        return (2*(self.length+self.width))\n",
    "r1=Rectangle()\n",
    "r1.set_values(12,15)\n",
    "print(\"The Perimeter of Rectangle is\",r1.getvalues())\n"
   ]
  },
  {
   "cell_type": "code",
   "execution_count": null,
   "metadata": {},
   "outputs": [],
   "source": [
    "\n",
    "class Circle:\n",
    "    rad=0.0\n",
    "    def __init__(self):\n",
    "        self.rad=float(input(\"Enter The Radius\"))\n",
    "    def compute_area(self):\n",
    "        return (3.14*self.rad*self.rad)\n",
    "    def compute_perimeter(self):\n",
    "        return (2*3.14*self.rad)\n",
    "c1=Circle()\n",
    "print(\"The Area Of circle is\" ,c1.compute_area())\n",
    "print(\"The Perimeter of rect is\" , c1.compute_perimeter())\n"
   ]
  },
  {
   "cell_type": "code",
   "execution_count": null,
   "metadata": {},
   "outputs": [],
   "source": [
    "\n",
    "class Circle2:\n",
    "    rad=0.0\n",
    "    def __init__(self,x):\n",
    "        self.rad =x\n",
    "    def areac(self):\n",
    "        return (3.14*self.rad*self.rad)\n",
    "    def circum(self):\n",
    "        return (2*3.14*self.rad)\n",
    "c2=Circle2(12.4)\n",
    "print(\"The Area Of circle is\" ,c2.areac())\n",
    "print(\"The Perimeter of rect is\" , c2.circum())\n"
   ]
  },
  {
   "cell_type": "code",
   "execution_count": null,
   "metadata": {},
   "outputs": [],
   "source": [
    "\n",
    "class Temp:\n",
    "   \n",
    "    def convf(self,f):\n",
    "        return ((f-32)/1.8)\n",
    "    def convc(self,c):\n",
    "        return ((c*1.8)+32)\n",
    "te=Temp()\n",
    "print(\"The Conversion of F to C is\",te.convf(100))\n",
    "print(\"The Conversion of C to F is\", te.convc(100))\n"
   ]
  },
  {
   "cell_type": "code",
   "execution_count": null,
   "metadata": {},
   "outputs": [],
   "source": [
    "\n",
    "class student():\n",
    "    name=\"\"\n",
    "    marks=0\n",
    "    age=0\n",
    "    Roll_No=\"\"\n",
    "    def display(self):\n",
    "        return (self.name,self.marks,self.Roll_No,self.age,self.marks)\n",
    "    def setage(self,x):\n",
    "        self.age=x\n",
    "    def setmarks(self,x):\n",
    "        self.marks=x\n",
    "stu=student()\n",
    "stu.name=\"prince\"\n",
    "stu.Roll_No=\"2K18CSUN01124\"\n",
    "\n",
    "stu.setage(15)\n",
    "stu.setmarks(85)\n",
    "print(stu.display())\n"
   ]
  },
  {
   "cell_type": "code",
   "execution_count": null,
   "metadata": {},
   "outputs": [],
   "source": [
    "\n",
    "class Time:\n",
    "    hr=0\n",
    "    min=0\n",
    "    \n",
    "    def __init__(self,h,r):\n",
    "        self.hr=h\n",
    "        self.min = r\n",
    "    \n",
    "    @staticmethod\n",
    "    def addTime(t1,t2):\n",
    "        minutes = t1.min + t2.min\n",
    "        hour = 0;\n",
    "        if(minutes > 59):\n",
    "            minute = minutes - 59\n",
    "            hour=1\n",
    "\n",
    "        hour = t1.hr + t2.hr + hour\n",
    "        \n",
    "        print(hour,\"hour\", minutes, \"minutes\")\n",
    "    \n",
    "    def displaytime(self):\n",
    "        print(self.hr,\"Hour and \",self.min,\"min\")\n",
    "    \n",
    "    def displaymin(self):\n",
    "        return (60*self.tothr+self.totmin)\n",
    "\n",
    "t1 = Time(2,30)\n",
    "t2 = Time(2,50)\n",
    "\n",
    "Time.addTime(t1,t2)\n"
   ]
  },
  {
   "cell_type": "code",
   "execution_count": null,
   "metadata": {},
   "outputs": [],
   "source": [
    "\n",
    "class reversestring:\n",
    "    a=\"\"\n",
    "    \n",
    "    def __init__(self,s):\n",
    "        self.a =s\n",
    "        \n",
    "    def rev_fun(self):\n",
    "        z = self.a.split()\n",
    "        z= reversed(z)\n",
    "        return \"\".join(z)\n",
    "rev=reversestring(\"HELLO world\")\n",
    "print(rev.rev_fun())"
   ]
  },
  {
   "cell_type": "code",
   "execution_count": null,
   "metadata": {},
   "outputs": [],
   "source": []
  },
  {
   "cell_type": "code",
   "execution_count": null,
   "metadata": {},
   "outputs": [],
   "source": []
  },
  {
   "cell_type": "code",
   "execution_count": null,
   "metadata": {},
   "outputs": [],
   "source": []
  },
  {
   "cell_type": "code",
   "execution_count": null,
   "metadata": {},
   "outputs": [],
   "source": []
  },
  {
   "cell_type": "code",
   "execution_count": null,
   "metadata": {},
   "outputs": [],
   "source": []
  },
  {
   "cell_type": "code",
   "execution_count": null,
   "metadata": {},
   "outputs": [],
   "source": []
  }
 ],
 "metadata": {
  "kernelspec": {
   "display_name": "Python 3",
   "language": "python",
   "name": "python3"
  },
  "language_info": {
   "codemirror_mode": {
    "name": "ipython",
    "version": 3
   },
   "file_extension": ".py",
   "mimetype": "text/x-python",
   "name": "python",
   "nbconvert_exporter": "python",
   "pygments_lexer": "ipython3",
   "version": "3.7.3"
  }
 },
 "nbformat": 4,
 "nbformat_minor": 2
}
